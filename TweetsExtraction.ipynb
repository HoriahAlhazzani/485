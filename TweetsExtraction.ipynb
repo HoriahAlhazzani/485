{
 "cells": [
  {
   "cell_type": "code",
   "execution_count": 10,
   "metadata": {},
   "outputs": [],
   "source": [
    "import os\n",
    "import tweepy as tw\n",
    "import pandas as pd\n",
    "import numpy as np\n",
    "from IPython.display import display"
   ]
  },
  {
   "cell_type": "code",
   "execution_count": 11,
   "metadata": {},
   "outputs": [],
   "source": [
    "\n",
    "# Consume:\n",
    "CONSUMER_KEY = '95CtDWMfjnbxY5RSluDkbbK5Y'\n",
    "CONSUMER_SECRET = 'f9X8Fb9rDWbonl8iXoufxIIiAsdSBSSL6COb21Rd6Col1tl2e5'\n",
    "\n",
    "# Access:\n",
    "ACCESS_TOKEN  = '617583110-4z6Bv1z5KecBoMBEcelwhuRtf4O438uOrO2JDxoj'\n",
    "ACCESS_SECRET = '0OIv3k1GZazvT2yG1jdV7g3nqo72o5q3hKdCy4sDD32Hs'\n",
    "\n",
    "auth = tw.OAuthHandler(CONSUMER_KEY,CONSUMER_SECRET)\n",
    "auth.set_access_token(ACCESS_TOKEN,ACCESS_SECRET)\n",
    "api = tw.API(auth, wait_on_rate_limit=True)"
   ]
  },
  {
   "cell_type": "code",
   "execution_count": null,
   "metadata": {},
   "outputs": [],
   "source": [
    "search_words = \"#اوبر\"\n",
    "date_since = \"2018-11-16\"\n",
    "tweets = tw.Cursor(api.search,\n",
    "              q=search_words,\n",
    "              lang=\"ar\",\n",
    "              since=date_since).items(100)\n",
    "\n",
    "#print(\"Number of tweets: {}.\\n\".format(len(list(tweets))))\n",
    "# Iterate and print tweets\n",
    "print(\"Tweets number {}. \\n\".format(len(tweets)))\n",
    "for tweet in tweets:\n",
    "    print(tweet.text)\n",
    "\n",
    "    \n",
    "api = tw.API(auth)\n",
    "\n",
    "# The search term you want to find\n",
    "query = \"اوبر\"\n",
    "# Language code (follows ISO 639-1 standards)\n",
    "language = \"ar\"\n",
    "\n",
    "# Calling the user_timeline function with our parameters\n",
    "results = api.search(q=query, lang=language)\n",
    "\n",
    "data = pd.DataFrame(data=[tweet.text for tweet in tweets], columns=['Tweets'])\n",
    "display(data.head(5))\n",
    "\n",
    "data=pd.DataFrame (data=[tweet.text for tweet in results], columns=['Tweets'])\n",
    "display(data.head(5))\n",
    "\n",
    "data['len'] = np.array([len(tweet.text)for tweet in results])\n",
    "data['ID'] = np.array([tweet.id for tweet in tweets])\n",
    "data['Date'] = np.array([tweet.created_at for tweet in results])   \n",
    "data['Source'] = np.array([tweet.source for tweet in results])\n",
    "data['Likes'] = np.array([ tweet.favorite_count for tweet in results])\n",
    "data['RTs'] = np.array([ tweet.retweet_count for tweet in results])\n",
    "display(data.head(5))"
   ]
  },
  {
   "cell_type": "code",
   "execution_count": null,
   "metadata": {},
   "outputs": [],
   "source": []
  }
 ],
 "metadata": {
  "kernelspec": {
   "display_name": "Python 3",
   "language": "python",
   "name": "python3"
  },
  "language_info": {
   "codemirror_mode": {
    "name": "ipython",
    "version": 3
   },
   "file_extension": ".py",
   "mimetype": "text/x-python",
   "name": "python",
   "nbconvert_exporter": "python",
   "pygments_lexer": "ipython3",
   "version": "3.7.4"
  }
 },
 "nbformat": 4,
 "nbformat_minor": 4
}
